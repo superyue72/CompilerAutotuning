{
 "cells": [
  {
   "cell_type": "code",
   "execution_count": 1,
   "metadata": {},
   "outputs": [],
   "source": [
    "import os, sys\n",
    "import time\n",
    "import copy\n",
    "import random\n",
    "import numpy as np\n",
    "from sklearn.utils import shuffle"
   ]
  },
  {
   "cell_type": "code",
   "execution_count": 2,
   "metadata": {},
   "outputs": [],
   "source": [
    "with open(\"../llvmpasses.txt\", mode=\"r\") as f:\n",
    "    PASSES = [x.strip() for x in f.readlines()]"
   ]
  },
  {
   "cell_type": "code",
   "execution_count": 3,
   "metadata": {},
   "outputs": [
    {
     "data": {
      "text/plain": [
       "['-openmp-opt-cgscc',\n",
       " '-early-cse-memssa',\n",
       " '-strip-dead-prototypes',\n",
       " '-simplifycfg',\n",
       " '-memcpyopt']"
      ]
     },
     "execution_count": 3,
     "metadata": {},
     "output_type": "execute_result"
    }
   ],
   "source": [
    "PASSES[:5]"
   ]
  },
  {
   "cell_type": "code",
   "execution_count": 4,
   "metadata": {},
   "outputs": [],
   "source": [
    "pg_path = \"polybench/linear-algebra/blas/symm/symm.c\"\n",
    "pg_name = \"symm\""
   ]
  },
  {
   "cell_type": "code",
   "execution_count": 5,
   "metadata": {},
   "outputs": [],
   "source": [
    "ini_cmd1 = 'clang -O0 -emit-llvm -I ../polybench/utilities -I ../polybench/datamining/correlation/correlation -c {path} -o {name}.bc'\n",
    "ini_cmd2 = 'clang -O0 -emit-llvm -I ../polybench/utilities -I ../polybench/datamining/correlation/correlation -c ../polybench/utilities/polybench.c -o polybench.bc;'\n",
    "cmd1 = ' -S polybench.bc -o polybench.opt.bc; llc -O0 -filetype=obj polybench.opt.bc -o polybench.o'\n",
    "cmd2 = ' -S {name}.bc -o {name}.opt.bc; llc -O0 -filetype=obj {name}.opt.bc -o {name}.o'\n",
    "cmd3 = 'clang -O0 -no-pie -lm *.o -o {name}'\n",
    "cmd4 = './{name}'\n",
    "clean_cmd = 'rm -rf *bc *.o *.I *.S {name}'"
   ]
  },
  {
   "cell_type": "code",
   "execution_count": 6,
   "metadata": {},
   "outputs": [
    {
     "name": "stdout",
     "output_type": "stream",
     "text": [
      "Iteration 1: -constmerge -forceattrs -block-freq -loop-deletion -cg-profile -slp-vectorizer -callsite-splitting -lcssa -inline -lower-constant-intrinsics -scoped-noalias-aa -postdomtree -function-attrs -annotation2metadata -targetlibinfo -ipsccp -mldst-motion -loop-distribute -inferattrs -memoryssa -dse -pgo-memop-opt -elim-avail-extern -aggressive-instcombine -alignment-from-assumptions -mem2reg -memdep -memcpyopt -annotation-remarks -lower-expect -simplifycfg -domtree -branch-prob -demanded-bits -transform-warning -lazy-value-info -gvn -loop-load-elim -openmp-opt-cgscc -loop-sink -loops -early-cse-memssa -libcalls-shrinkwrap -globaldce -verify -jump-threading -float2int -loop-rotate -reassociate -loop-simplify -tailcallelim -loop-vectorize -phi-values -adce -deadargelim -inject-tli-mappings -called-value-propagation -globalopt -early-cse -licm -instsimplify -basic-aa -indvars -sroa -bdce -loop-idiom -instcombine -loop-unroll -correlated-propagation -div-rem-pairs -speculative-execution -vector-combine -aa -strip-dead-prototypes -sccp -argpromotion -scalar-evolution -tbaa -globals-aa -rpo-function-attrs\n",
      "*****\n",
      "clang -O0 -no-pie -lm *.o -o covariance\n",
      "Compiled! Measuring execution time...\n",
      "R1: 20.957473039627075\n",
      "R2: 18.30040955543518\n",
      "R3: 15.630300521850586\n",
      "R4: 12.903363704681396\n",
      "R5: 12.227102518081665\n",
      "R6: 16.794588804244995\n",
      "R7: 15.46384859085083\n",
      "R8: 19.851953744888306\n",
      "R9: 17.41181230545044\n",
      "R10: 17.212618827819824\n",
      "[20.957473039627075, 18.30040955543518, 15.630300521850586, 12.903363704681396, 12.227102518081665, 16.794588804244995, 15.46384859085083, 19.851953744888306, 17.41181230545044, 17.212618827819824]\n",
      "Std: 2.617023316650485; Median: 17.00360381603241; Mean: 16.67534716129303; Min: 12.227102518081665; Max: 20.957473039627075\n",
      "====================\n",
      "Iteration 2: -vector-combine -reassociate -block-freq -aa -sroa -memoryssa -inline -gvn -float2int -mem2reg -openmp-opt-cgscc -ipsccp -div-rem-pairs -annotation-remarks -demanded-bits -loop-rotate -adce -instcombine -loop-distribute -tailcallelim -early-cse -memdep -postdomtree -rpo-function-attrs -loop-idiom -globalopt -loop-unroll -lazy-value-info -sccp -pgo-memop-opt -indvars -loops -globaldce -bdce -libcalls-shrinkwrap -domtree -inject-tli-mappings -correlated-propagation -branch-prob -scoped-noalias-aa -verify -elim-avail-extern -alignment-from-assumptions -aggressive-instcombine -globals-aa -lower-constant-intrinsics -loop-deletion -forceattrs -speculative-execution -instsimplify -called-value-propagation -jump-threading -early-cse-memssa -scalar-evolution -mldst-motion -targetlibinfo -basic-aa -cg-profile -deadargelim -tbaa -licm -memcpyopt -transform-warning -callsite-splitting -argpromotion -constmerge -lcssa -loop-load-elim -lower-expect -strip-dead-prototypes -phi-values -annotation2metadata -inferattrs -dse -simplifycfg -function-attrs -slp-vectorizer -loop-sink -loop-simplify -loop-vectorize\n",
      "*****\n",
      "clang -O0 -no-pie -lm *.o -o covariance\n",
      "Compiled! Measuring execution time...\n",
      "R1: 14.064742803573608\n",
      "R2: 13.89687180519104\n",
      "R3: 12.866075277328491\n",
      "R4: 16.21876072883606\n",
      "R5: 18.753687620162964\n",
      "R6: 8.525580406188965\n",
      "R7: 11.879873991012573\n",
      "R8: 15.340731859207153\n",
      "R9: 14.184251308441162\n"
     ]
    }
   ],
   "source": [
    "for iter in range(10):\n",
    "    rand_passes = shuffle(PASSES)\n",
    "    print(f\"Iteration {iter + 1}:\", \" \".join(rand_passes))\n",
    "    print(\"*\" * 5)\n",
    "    os.system(clean_cmd.format(name=pg_name))\n",
    "    os.system(ini_cmd1.format(path=pg_path, name=pg_name))\n",
    "    os.system(ini_cmd2)\n",
    "    os.system(\"opt -O0 \" + \" \".join(rand_passes) + cmd1)\n",
    "    os.system(\"opt -O0 \" + \" \".join(rand_passes) + cmd2.format(name=pg_name))\n",
    "    print(cmd3.format(name=pg_name))\n",
    "    if os.system(cmd3.format(name=pg_name)) == 0:\n",
    "        print(\"Compiled! Measuring execution time...\")\n",
    "    exe_times = []\n",
    "    for rtime in range(10):\n",
    "        begin = time.time()\n",
    "        ret = os.system(cmd4.format(name=pg_name))\n",
    "        if ret > 0:\n",
    "            continue\n",
    "        end = time.time()\n",
    "        print(f\"R{rtime + 1}:\", end - begin)\n",
    "        exe_times.append(end - begin)\n",
    "    print(exe_times)\n",
    "    print(f\"Std: {np.std(exe_times)}; Median: {np.median(exe_times)}; Mean: {np.mean(exe_times)}; Min: {np.min(exe_times)}; Max: {np.max(exe_times)}\")\n",
    "    print(\"=\" * 20)"
   ]
  },
  {
   "cell_type": "code",
   "execution_count": null,
   "metadata": {},
   "outputs": [],
   "source": []
  }
 ],
 "metadata": {
  "kernelspec": {
   "display_name": "python3.10",
   "language": "python",
   "name": "python3"
  },
  "language_info": {
   "codemirror_mode": {
    "name": "ipython",
    "version": 3
   },
   "file_extension": ".py",
   "mimetype": "text/x-python",
   "name": "python",
   "nbconvert_exporter": "python",
   "pygments_lexer": "ipython3",
   "version": "3.10.6"
  },
  "orig_nbformat": 4
 },
 "nbformat": 4,
 "nbformat_minor": 2
}
